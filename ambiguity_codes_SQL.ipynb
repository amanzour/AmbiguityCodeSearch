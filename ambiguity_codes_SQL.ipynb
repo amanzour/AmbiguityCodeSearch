{
  "nbformat": 4,
  "nbformat_minor": 0,
  "metadata": {
    "colab": {
      "provenance": []
    },
    "kernelspec": {
      "name": "python3",
      "display_name": "Python 3"
    },
    "language_info": {
      "name": "python"
    }
  },
  "cells": [
    {
      "cell_type": "markdown",
      "source": [
        "# Visualization of **Ambiguity Code Search** Results"
      ],
      "metadata": {
        "id": "P3zi1UgAohho"
      }
    },
    {
      "cell_type": "markdown",
      "source": [
        "# 1.&nbsp;Introduction"
      ],
      "metadata": {
        "id": "IoRfLALpo5YE"
      }
    },
    {
      "cell_type": "markdown",
      "source": [
        "The **Ambiguity Code Search Database** is the result of an antibody discovery algorithm implemented by \n",
        "[Antanasijevic et. al, From structure to sequence: Antibody discovery using cryoEM, Science Advances, 2022](https://www.ncbi.nlm.nih.gov/pmc/articles/PMC8769551/). \n",
        " \n",
        "Data used here is downloaded from resources from the above paper. Code Ocean (DOI:  [10.24433/CO.9600319.v1](https://codeocean.com/capsule/6661879/tree/v1)). We are going to look at some statistics regarding their results.    \n"
      ],
      "metadata": {
        "id": "SkGHpruOp0Ul"
      }
    },
    {
      "cell_type": "markdown",
      "source": [
        "*italicized text*# 2.&nbsp;Importing Data"
      ],
      "metadata": {
        "id": "viRzmEqAqHkG"
      }
    },
    {
      "cell_type": "markdown",
      "source": [
        "There are two tables in the Code Ocean platform: `33172_lc_codeocean.csv` and `33172__IgL.tsv`. First, these tables are imported into mySQL using the script `import.sql`:\n",
        "\n"
      ],
      "metadata": {
        "id": "JTBPiMkbqNci"
      }
    },
    {
      "cell_type": "markdown",
      "source": [
        "```sql\n",
        "drop database if exists AmbiguityCodeSearch;\n",
        "create database AmbiguityCodeSearch;\n",
        "use AmbiguityCodeSearch;\n",
        "\n",
        "drop table if exists codeocean;\n",
        "create table codeocean (\n",
        "id INT AUTO_INCREMENT,\n",
        "hit_name VARCHAR(255) NOT NULL,\n",
        "hit_seq VARCHAR(255) NOT NULL,\n",
        "fw1_hit_score DECIMAL(20 , 19) NOT NULL,\n",
        "fw1_hit_short BOOLEAN NOT NULL,\n",
        "fw1_hit_raw VARCHAR(255) NOT NULL,\n",
        "fw1_hit_align VARCHAR(255) NOT NULL,\n",
        "fw1_hit_loc INT NOT NULL,\n",
        "fw1_hit_pos VARCHAR(255) NOT NULL,\n",
        "cdr1_hit_score DECIMAL(20 , 19) NOT NULL,\n",
        "cdr1_hit_short BOOLEAN NOT NULL,\n",
        "cdr1_hit_raw VARCHAR(255) NOT NULL,\n",
        "cdr1_hit_align VARCHAR(255) NOT NULL,\n",
        "cdr1_hit_loc INT NOT NULL,\n",
        "cdr1_hit_pos VARCHAR(255) NOT NULL,\n",
        "fw2_hit_score DECIMAL(20 , 19) NOT NULL,\n",
        "fw2_hit_short BOOLEAN NOT NULL,\n",
        "fw2_hit_raw VARCHAR(255) NOT NULL,\n",
        "fw2_hit_align VARCHAR(255) NOT NULL,\n",
        "fw2_hit_loc INT NOT NULL,\n",
        "fw2_hit_pos VARCHAR(255) NOT NULL,\n",
        "cdr2_hit_score DECIMAL(20 , 19) NOT NULL,\n",
        "cdr2_hit_short BOOLEAN NOT NULL,\n",
        "cdr2_hit_raw VARCHAR(255) NOT NULL,\n",
        "cdr2_hit_align VARCHAR(255) NOT NULL,\n",
        "cdr2_hit_loc INT NOT NULL,\n",
        "cdr2_hit_pos VARCHAR(255) NOT NULL,\n",
        "fw3_hit_score DECIMAL(20 , 19) NOT NULL,\n",
        "fw3_hit_short BOOLEAN NOT NULL,\n",
        "fw3_hit_raw VARCHAR(255) NOT NULL,\n",
        "fw3_hit_align VARCHAR(255) NOT NULL,\n",
        "fw3_hit_loc INT NOT NULL,\n",
        "fw3_hit_pos VARCHAR(255) NOT NULL,\n",
        "cdr3_hit_score DECIMAL(20 , 19) NOT NULL,\n",
        "cdr3_hit_short BOOLEAN NOT NULL,\n",
        "cdr3_hit_raw VARCHAR(255) NOT NULL,\n",
        "cdr3_hit_align VARCHAR(255) NOT NULL,\n",
        "cdr3_hit_loc INT NOT NULL,\n",
        "cdr3_hit_pos VARCHAR(255) NOT NULL,\n",
        "primary key (id)\n",
        ")\n",
        "\n",
        "/*\n",
        "Modify the following line for correct file path on your computer\n",
        "*/\n",
        " load data local infile '/Users/amirmanzour/Documents/GitHub/AmbiguityCodeSearch/33172_lc_codeocean.csv' \n",
        " into table codeocean \n",
        " FIELDS TERMINATED BY ',' LINES TERMINATED BY '\\n' \n",
        " IGNORE 1 LINES\n",
        " (hit_name,hit_seq,fw1_hit_score,@fw1_hit_short,fw1_hit_raw,fw1_hit_align,fw1_hit_loc,fw1_hit_pos,cdr1_hit_score,@cdr1_hit_short,cdr1_hit_raw,cdr1_hit_align,cdr1_hit_loc,cdr1_hit_pos,fw2_hit_score,@fw2_hit_short,fw2_hit_raw,fw2_hit_align,fw2_hit_loc,fw2_hit_pos,cdr2_hit_score,@cdr2_hit_short,cdr2_hit_raw,cdr2_hit_align,cdr2_hit_loc,cdr2_hit_pos,fw3_hit_score,@fw3_hit_short,fw3_hit_raw,fw3_hit_align,fw3_hit_loc,fw3_hit_pos,cdr3_hit_score,@cdr3_hit_short,cdr3_hit_raw,cdr3_hit_align,cdr3_hit_loc,cdr3_hit_pos) \n",
        " set fw1_hit_short = (@fw1_hit_short = 'True'), \n",
        " cdr1_hit_short = (@cdr1_hit_short = 'True'), \n",
        "fw2_hit_short = (@fw2_hit_short = 'True'), \n",
        "cdr2_hit_short = (@cdr2_hit_short = 'True'), \n",
        "fw3_hit_short = (@fw3_hit_short = 'True'), \n",
        "cdr3_hit_short = (@cdr3_hit_short = 'True');\n",
        "\n",
        "drop table if exists lgl;\n",
        "create table lgl (\n",
        "id INT AUTO_INCREMENT,\n",
        "sequence_id VARCHAR(255) NOT NULL,\n",
        "sequence VARCHAR(1000) NOT NULL,\n",
        "locus VARCHAR(50) NOT NULL,\n",
        "primary key (id)\n",
        ")\n",
        "\n",
        "/*\n",
        "Modify the following line for correct file path on your computer\n",
        "*/\n",
        "load data local infile '/Users/amirmanzour/Documents/GitHub/AmbiguityCodeSearch/33172__IgL.tsv' \n",
        " into table lgl \n",
        " FIELDS TERMINATED BY '\\t' LINES TERMINATED BY '\\n' \n",
        " IGNORE 1 LINES\n",
        " (sequence_id,sequence,locus,@dummy,@dummy,@dummy,@dummy,@dummy,@dummy,@dummy,@dummy,@dummy,@dummy,@dummy,@dummy,@dummy,@dummy,@dummy,@dummy,@dummy,@dummy,@dummy,@dummy,@dummy,@dummy,@dummy,@dummy,@dummy,@dummy,@dummy,@dummy,@dummy,@dummy,@dummy,@dummy,@dummy,@dummy,@dummy,@dummy,@dummy,@dummy,@dummy,@dummy,@dummy,@dummy,@dummy,@dummy,@dummy,@dummy,@dummy,@dummy,@dummy,@dummy,@dummy,@dummy,@dummy,@dummy,@dummy,@dummy,@dummy,@dummy,@dummy,@dummy,@dummy,@dummy,@dummy,@dummy,@dummy,@dummy,@dummy,@dummy,@dummy,@dummy,@dummy,@dummy,@dummy,@dummy,@dummy,@dummy,@dummy,@dummy,@dummy,@dummy,@dummy,@dummy,@dummy,@dummy,@dummy)\n",
        "```"
      ],
      "metadata": {
        "id": "pRmwysHcqO4_"
      }
    },
    {
      "cell_type": "markdown",
      "source": [
        "After importing the tables, we take a closer look at colums `Fw1_hit_score1` and `Fw2_hit_score1`, which reflect scores corrsponding to `Fw1` and `Fw2` regions, respectively.\n",
        "\n",
        "Histograms of both features are illustrated using Tableau along with curves that best estimate their distribution, under normality assumption. They are in files `Fw1.png`, `Fw2.png`, and `Cdr.png`."
      ],
      "metadata": {
        "id": "1mbZtsdRrOIi"
      }
    },
    {
      "cell_type": "markdown",
      "source": [
        "Total number of hits (records) in the `codeocean` table was `27224`. Given boolean features `Cdr1`, `Cdr1`, and `Cdr2`, number of hits that fell within each combinatio of features are shown in file `Cdr.png`.\n"
      ],
      "metadata": {
        "id": "dQHyF5G4rZVg"
      }
    },
    {
      "cell_type": "markdown",
      "source": [
        "Next, we quantify the hydrophobicity of regions by considering their amino-acid sequences. In doing so, we measure the ratio of hydrophobic amino acids (A,V,L,I,P,F,C) to total amino acids in the sequence. Note, this measure does not necessarily reflect the actual hydrophobicity and mostly computed for illustratio purposes. We create a SQL stored function `ishydrophobic`:"
      ],
      "metadata": {
        "id": "BPm3OrgtOdtx"
      }
    },
    {
      "cell_type": "markdown",
      "source": [
        "```sql\n",
        "DELIMITER //\n",
        "CREATE FUNCTION ISHYDROPHOBIC(sequence VARCHAR(1000))\n",
        "  RETURNS DECIMAL(3,2) DETERMINISTIC\n",
        "  BEGIN\n",
        "  DECLARE A INT;\n",
        "  DECLARE V INT;\n",
        "  DECLARE L INT;\n",
        "  DECLARE I INT;\n",
        "  DECLARE P INT;\n",
        "  DECLARE F INT;\n",
        "  DECLARE C INT;\n",
        "  SET A = CHAR_LENGTH(sequence) - CHAR_LENGTH( REPLACE ( sequence, 'A', ''));\n",
        "  SET V = CHAR_LENGTH(sequence) - CHAR_LENGTH( REPLACE ( sequence, 'V', ''));\n",
        "  SET L = CHAR_LENGTH(sequence) - CHAR_LENGTH( REPLACE ( sequence, 'L', ''));\n",
        "  SET I = CHAR_LENGTH(sequence) - CHAR_LENGTH( REPLACE ( sequence, 'I', ''));  \n",
        "  SET P = CHAR_LENGTH(sequence) - CHAR_LENGTH( REPLACE ( sequence, 'P', ''));  \n",
        "  SET F = CHAR_LENGTH(sequence) - CHAR_LENGTH( REPLACE ( sequence, 'F', ''));  \n",
        "  SET C = CHAR_LENGTH(sequence) - CHAR_LENGTH( REPLACE ( sequence, 'C', ''));\n",
        "  --adding 1 to avoid division by zero error\n",
        "  RETURN (CHAR_LENGTH(sequence) - A - V - L - I - P - F - C)/(CHAR_LENGTH(sequence) + 1);\n",
        "  END //\n",
        "```"
      ],
      "metadata": {
        "id": "J06S5kX2Pcst"
      }
    },
    {
      "cell_type": "markdown",
      "source": [
        "For instance, we can use the function to compute the hydropobicity of the `Fw1` region corresponding to the frist five records:\n",
        "```sql\n",
        "select id,fw1_hit_raw,ishydrophobic(fw1_hit_raw) from codeocean limit 5\n",
        "```\n"
      ],
      "metadata": {
        "id": "tnrqRXXBQVxq"
      }
    },
    {
      "cell_type": "markdown",
      "source": [
        "| id | fw1_hit_raw |ishydrophobic(fw1_hit_raw)|\n",
        "| --- | --- | --- |\n",
        "| <font color='black'>1</font> | <font color='black'>QSVLTQPPSVSGAPDQRVTISCTGS</font>| <font color='red'>0.58</font> | \n",
        "| <font color='black'>2</font> | <font color='black'>TWGAPGQRVTISCTGN </font>| <font color='red'>0.65</font> |\n",
        "| <font color='black'>3</font> | <font color='black'>HGTISCSGS </font>| <font color='red'>0.70</font> |\n",
        "| <font color='black'>4</font> | <font color='black'>SYDLTQARSVSVSPGQTARITCGGD </font>| <font color='red'>0.65</font> |\n",
        "| <font color='black'>5</font> | <font color='black'>QSVLTQPPSVSGAPGQRVTISCTGS </font>| <font color='red'>0.58</font> |"
      ],
      "metadata": {
        "id": "M_RuI4Zouxwz"
      }
    },
    {
      "cell_type": "markdown",
      "source": [
        "# 4.&nbsp;Extraction of hydrophobic sequences using recursive SQL"
      ],
      "metadata": {
        "id": "UgU7a9Tu1Tup"
      }
    },
    {
      "cell_type": "markdown",
      "source": [
        "Common Table Expressions (CTE) are useful tools in SQL with many interesting applications. Here, we show an example of application of a recursive CTE that extracts sequences with high hydrophobicity. Note that extracting such sequences can be done through a veriety of techniques such as binning, sorting, etc... A recursive implementation by no means is optimal and is only done for illustrtion purposes. Devising a recursive structure, however, helps construct less trivial queries from the database.\n",
        "\n",
        "Now, let say we want to identify sequences with high hydrophobicity. In addition, we want to find hydrophobic sequences one by one such that each sequence has less hydrophobicity value than previous one. Search terminates where the hydrophobicity of the next sequence falls below a threshold distance of `0.05` with the previous one. In other words, we are only interested in sets of sequences that show *gradual* decrease in hydrophobicity."
      ],
      "metadata": {
        "id": "8Yf007eb1UeS"
      }
    },
    {
      "cell_type": "markdown",
      "source": [
        "```sql\n",
        "--value n is used to control the recursion limiting it to a maximum of five sequences\n",
        "with recursive hydrophobic(n,id,sequence,hydrophobicity) as\n",
        "--this select statement is the base case containing only the sequence with maximum hydrophobicity\n",
        "(select 1 as n,id,fw1_hit_raw as sequence, ISHYDROPHOBIC(fw1_hit_raw) as hydrophobicity from codeocean where ISHYDROPHOBIC(fw1_hit_raw) in \n",
        "(select max(ISHYDROPHOBIC(fw1_hit_raw)) from codeocean)\n",
        "union all\n",
        "select n+1,codeocean.id,codeocean.fw1_hit_raw as sequence,ISHYDROPHOBIC(codeocean.fw1_hit_raw) as hydrophobicity from codeocean inner join hydrophobic as h\n",
        "on ISHYDROPHOBIC(codeocean.fw1_hit_raw) < h.hydrophobicity\n",
        "and ISHYDROPHOBIC(codeocean.fw1_hit_raw) > (h.hydrophobicity - 0.05)\n",
        "and codeocean.id != h.id\n",
        "and n < 5\n",
        ")\n",
        "select * from hydrophobic\n",
        "\n",
        "```"
      ],
      "metadata": {
        "id": "hpoTXxJ21UyQ"
      }
    },
    {
      "cell_type": "markdown",
      "source": [
        "| n | id |sequence|hydrophobicity|\n",
        "| --- | --- | --- | --- |\n",
        "| <font color='black'>1</font> | <font color='black'>26335 </font>| <font color='black'>HGGGD</font> |  <font color='black'>0.83</font>|\n",
        "| <font color='black'>2</font> | <font color='black'>13024 </font>| <font color='black'>HGTISWSGS</font> |  <font color='black'>0.80</font>|"
      ],
      "metadata": {
        "id": "UNJl2YEfXZpZ"
      }
    },
    {
      "cell_type": "markdown",
      "source": [
        "Script `analyze.sql` contains both the function and recursive CTE commands."
      ],
      "metadata": {
        "id": "6OyxnldbW8o9"
      }
    }
  ]
}